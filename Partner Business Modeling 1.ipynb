{
 "cells": [
  {
   "cell_type": "code",
   "execution_count": null,
   "metadata": {},
   "outputs": [],
   "source": [
    "import pandas as pd\n",
    "import numpy as np\n"
   ]
  },
  {
   "cell_type": "code",
   "execution_count": null,
   "metadata": {},
   "outputs": [],
   "source": [
    "data = \"C:/Users/yasht/OneDrive/Desktop/Stratascratch/Partner Business Modeling/dataset_2.csv\""
   ]
  },
  {
   "cell_type": "code",
   "execution_count": null,
   "metadata": {},
   "outputs": [],
   "source": [
    "df = pd.read_csv(data)"
   ]
  },
  {
   "cell_type": "code",
   "execution_count": null,
   "metadata": {},
   "outputs": [],
   "source": [
    "df['Accept Rate'] = df['Accept Rate'].str.replace('%', \"\")\n",
    "df['Accept Rate'] = pd.to_numeric(df['Accept Rate'])\n"
   ]
  },
  {
   "cell_type": "markdown",
   "metadata": {},
   "source": [
    "Option 1: $50 for each driver that is online at least 8 hours, accepts 90% of requests, completes 10 trips, and has a rating of 4.7 or better during the time frame;\n",
    "\n"
   ]
  },
  {
   "cell_type": "markdown",
   "metadata": {},
   "source": [
    "Option 2: $4/trip for all drivers who complete 12 trips, and have a 4.7 or better rating.\n"
   ]
  },
  {
   "cell_type": "markdown",
   "metadata": {},
   "source": []
  },
  {
   "cell_type": "code",
   "execution_count": null,
   "metadata": {},
   "outputs": [],
   "source": [
    "result_1 = df.query(\"`Supply Hours` >= 8 and Rating >= 4.7 and `Trips Completed` >= 10 and `Accept Rate` >= 90\")\n",
    "\n"
   ]
  },
  {
   "cell_type": "code",
   "execution_count": 29,
   "metadata": {},
   "outputs": [
    {
     "data": {
      "text/html": [
       "<div>\n",
       "<style scoped>\n",
       "    .dataframe tbody tr th:only-of-type {\n",
       "        vertical-align: middle;\n",
       "    }\n",
       "\n",
       "    .dataframe tbody tr th {\n",
       "        vertical-align: top;\n",
       "    }\n",
       "\n",
       "    .dataframe thead th {\n",
       "        text-align: right;\n",
       "    }\n",
       "</style>\n",
       "<table border=\"1\" class=\"dataframe\">\n",
       "  <thead>\n",
       "    <tr style=\"text-align: right;\">\n",
       "      <th></th>\n",
       "      <th>Name</th>\n",
       "      <th>Trips Completed</th>\n",
       "      <th>Accept Rate</th>\n",
       "      <th>Supply Hours</th>\n",
       "      <th>Rating</th>\n",
       "    </tr>\n",
       "  </thead>\n",
       "  <tbody>\n",
       "    <tr>\n",
       "      <th>11</th>\n",
       "      <td>Byron</td>\n",
       "      <td>15</td>\n",
       "      <td>100</td>\n",
       "      <td>10</td>\n",
       "      <td>4.9</td>\n",
       "    </tr>\n",
       "    <tr>\n",
       "      <th>12</th>\n",
       "      <td>Carlota</td>\n",
       "      <td>14</td>\n",
       "      <td>100</td>\n",
       "      <td>8</td>\n",
       "      <td>5.0</td>\n",
       "    </tr>\n",
       "    <tr>\n",
       "      <th>19</th>\n",
       "      <td>Dannette</td>\n",
       "      <td>14</td>\n",
       "      <td>100</td>\n",
       "      <td>9</td>\n",
       "      <td>4.9</td>\n",
       "    </tr>\n",
       "    <tr>\n",
       "      <th>23</th>\n",
       "      <td>Demetrius</td>\n",
       "      <td>14</td>\n",
       "      <td>100</td>\n",
       "      <td>9</td>\n",
       "      <td>5.0</td>\n",
       "    </tr>\n",
       "    <tr>\n",
       "      <th>26</th>\n",
       "      <td>Dimple</td>\n",
       "      <td>15</td>\n",
       "      <td>100</td>\n",
       "      <td>10</td>\n",
       "      <td>4.9</td>\n",
       "    </tr>\n",
       "    <tr>\n",
       "      <th>32</th>\n",
       "      <td>Emil</td>\n",
       "      <td>12</td>\n",
       "      <td>100</td>\n",
       "      <td>9</td>\n",
       "      <td>5.0</td>\n",
       "    </tr>\n",
       "    <tr>\n",
       "      <th>37</th>\n",
       "      <td>Garth</td>\n",
       "      <td>15</td>\n",
       "      <td>100</td>\n",
       "      <td>10</td>\n",
       "      <td>5.0</td>\n",
       "    </tr>\n",
       "    <tr>\n",
       "      <th>40</th>\n",
       "      <td>Hanh</td>\n",
       "      <td>14</td>\n",
       "      <td>94</td>\n",
       "      <td>9</td>\n",
       "      <td>4.9</td>\n",
       "    </tr>\n",
       "    <tr>\n",
       "      <th>53</th>\n",
       "      <td>Keshia</td>\n",
       "      <td>20</td>\n",
       "      <td>100</td>\n",
       "      <td>11</td>\n",
       "      <td>4.8</td>\n",
       "    </tr>\n",
       "    <tr>\n",
       "      <th>57</th>\n",
       "      <td>Latonia</td>\n",
       "      <td>13</td>\n",
       "      <td>100</td>\n",
       "      <td>9</td>\n",
       "      <td>5.0</td>\n",
       "    </tr>\n",
       "    <tr>\n",
       "      <th>68</th>\n",
       "      <td>Luanne</td>\n",
       "      <td>12</td>\n",
       "      <td>96</td>\n",
       "      <td>11</td>\n",
       "      <td>4.9</td>\n",
       "    </tr>\n",
       "    <tr>\n",
       "      <th>69</th>\n",
       "      <td>Lyndsey</td>\n",
       "      <td>13</td>\n",
       "      <td>94</td>\n",
       "      <td>11</td>\n",
       "      <td>4.9</td>\n",
       "    </tr>\n",
       "    <tr>\n",
       "      <th>70</th>\n",
       "      <td>Lynwood</td>\n",
       "      <td>21</td>\n",
       "      <td>95</td>\n",
       "      <td>10</td>\n",
       "      <td>5.0</td>\n",
       "    </tr>\n",
       "    <tr>\n",
       "      <th>75</th>\n",
       "      <td>Man</td>\n",
       "      <td>23</td>\n",
       "      <td>100</td>\n",
       "      <td>10</td>\n",
       "      <td>5.0</td>\n",
       "    </tr>\n",
       "    <tr>\n",
       "      <th>76</th>\n",
       "      <td>Marica</td>\n",
       "      <td>16</td>\n",
       "      <td>90</td>\n",
       "      <td>10</td>\n",
       "      <td>5.0</td>\n",
       "    </tr>\n",
       "    <tr>\n",
       "      <th>84</th>\n",
       "      <td>Natalie</td>\n",
       "      <td>16</td>\n",
       "      <td>94</td>\n",
       "      <td>8</td>\n",
       "      <td>4.9</td>\n",
       "    </tr>\n",
       "    <tr>\n",
       "      <th>88</th>\n",
       "      <td>Oren</td>\n",
       "      <td>11</td>\n",
       "      <td>91</td>\n",
       "      <td>9</td>\n",
       "      <td>4.8</td>\n",
       "    </tr>\n",
       "    <tr>\n",
       "      <th>92</th>\n",
       "      <td>Phyllis</td>\n",
       "      <td>10</td>\n",
       "      <td>90</td>\n",
       "      <td>8</td>\n",
       "      <td>4.8</td>\n",
       "    </tr>\n",
       "    <tr>\n",
       "      <th>95</th>\n",
       "      <td>Salvador</td>\n",
       "      <td>15</td>\n",
       "      <td>100</td>\n",
       "      <td>11</td>\n",
       "      <td>4.8</td>\n",
       "    </tr>\n",
       "    <tr>\n",
       "      <th>98</th>\n",
       "      <td>Shandra</td>\n",
       "      <td>14</td>\n",
       "      <td>100</td>\n",
       "      <td>8</td>\n",
       "      <td>4.9</td>\n",
       "    </tr>\n",
       "    <tr>\n",
       "      <th>113</th>\n",
       "      <td>Vashti</td>\n",
       "      <td>12</td>\n",
       "      <td>92</td>\n",
       "      <td>11</td>\n",
       "      <td>4.9</td>\n",
       "    </tr>\n",
       "  </tbody>\n",
       "</table>\n",
       "</div>"
      ],
      "text/plain": [
       "          Name  Trips Completed  Accept Rate  Supply Hours  Rating\n",
       "11       Byron               15          100            10     4.9\n",
       "12     Carlota               14          100             8     5.0\n",
       "19    Dannette               14          100             9     4.9\n",
       "23   Demetrius               14          100             9     5.0\n",
       "26      Dimple               15          100            10     4.9\n",
       "32        Emil               12          100             9     5.0\n",
       "37       Garth               15          100            10     5.0\n",
       "40        Hanh               14           94             9     4.9\n",
       "53      Keshia               20          100            11     4.8\n",
       "57     Latonia               13          100             9     5.0\n",
       "68      Luanne               12           96            11     4.9\n",
       "69     Lyndsey               13           94            11     4.9\n",
       "70     Lynwood               21           95            10     5.0\n",
       "75         Man               23          100            10     5.0\n",
       "76      Marica               16           90            10     5.0\n",
       "84     Natalie               16           94             8     4.9\n",
       "88        Oren               11           91             9     4.8\n",
       "92     Phyllis               10           90             8     4.8\n",
       "95    Salvador               15          100            11     4.8\n",
       "98     Shandra               14          100             8     4.9\n",
       "113     Vashti               12           92            11     4.9"
      ]
     },
     "execution_count": 29,
     "metadata": {},
     "output_type": "execute_result"
    }
   ],
   "source": [
    "result_1"
   ]
  },
  {
   "cell_type": "code",
   "execution_count": null,
   "metadata": {},
   "outputs": [],
   "source": [
    "opt_1 = 50"
   ]
  },
  {
   "cell_type": "code",
   "execution_count": null,
   "metadata": {},
   "outputs": [],
   "source": [
    "opt_1_driver = len(result_1)"
   ]
  },
  {
   "cell_type": "markdown",
   "metadata": {},
   "source": [
    "How much would the total bonus payout be with Option 1?\n",
    "\n"
   ]
  },
  {
   "cell_type": "code",
   "execution_count": null,
   "metadata": {},
   "outputs": [],
   "source": [
    "print(\"Total\",opt_1_driver, \"qualifys for option 1 incentive for the final payout of\",opt_1_driver*opt_1 )"
   ]
  },
  {
   "cell_type": "markdown",
   "metadata": {},
   "source": [
    "Option 2: $4/trip for all drivers who complete 12 trips, and have a 4.7 or better rating.\n"
   ]
  },
  {
   "cell_type": "code",
   "execution_count": null,
   "metadata": {},
   "outputs": [],
   "source": [
    "result_2 = df.query(\"Rating >= 4.7 and `Trips Completed` >= 12\")\n"
   ]
  },
  {
   "cell_type": "code",
   "execution_count": null,
   "metadata": {},
   "outputs": [],
   "source": [
    "result_2"
   ]
  },
  {
   "cell_type": "code",
   "execution_count": null,
   "metadata": {},
   "outputs": [],
   "source": [
    "opt_2_driver = len(result_2)"
   ]
  },
  {
   "cell_type": "code",
   "execution_count": null,
   "metadata": {},
   "outputs": [],
   "source": [
    "result_2['Incentive'] = result_2['Trips Completed'] * 4"
   ]
  },
  {
   "cell_type": "code",
   "execution_count": null,
   "metadata": {},
   "outputs": [],
   "source": [
    "result_2"
   ]
  },
  {
   "cell_type": "code",
   "execution_count": null,
   "metadata": {},
   "outputs": [],
   "source": [
    "total_sum = result_2['Incentive'].sum()"
   ]
  },
  {
   "cell_type": "code",
   "execution_count": null,
   "metadata": {},
   "outputs": [],
   "source": [
    "print(\"Total\",opt_2_driver, \"qualifys for option 2 incentive for the final payout of\",total_sum )"
   ]
  },
  {
   "cell_type": "code",
   "execution_count": null,
   "metadata": {},
   "outputs": [],
   "source": [
    "df_all = result_1.merge(result_2, on = result_1.columns.to_list(), how = 'left', indicator= True)"
   ]
  },
  {
   "cell_type": "code",
   "execution_count": null,
   "metadata": {},
   "outputs": [],
   "source": [
    "df_all"
   ]
  },
  {
   "cell_type": "code",
   "execution_count": null,
   "metadata": {},
   "outputs": [],
   "source": [
    "result_3 = df_all[df_all[\"_merge\"] == 'left_only']\n"
   ]
  },
  {
   "cell_type": "code",
   "execution_count": null,
   "metadata": {},
   "outputs": [],
   "source": [
    "len(result_3)"
   ]
  },
  {
   "cell_type": "markdown",
   "metadata": {},
   "source": [
    "What percentages of drivers online completed less than 10 trips, had an acceptance rate of less than 90%, and had a rating of 4.7 or higher?\n",
    "\n"
   ]
  },
  {
   "cell_type": "code",
   "execution_count": 44,
   "metadata": {},
   "outputs": [],
   "source": [
    "result_4 = df.query(\"`Trips Completed` < 10 and `Accept Rate` < 90 and Rating >= 4.7\")"
   ]
  },
  {
   "cell_type": "code",
   "execution_count": 48,
   "metadata": {},
   "outputs": [],
   "source": [
    "precent_online = round((len(result_4) / len(df)) *100,2)"
   ]
  },
  {
   "cell_type": "code",
   "execution_count": 52,
   "metadata": {},
   "outputs": [
    {
     "name": "stdout",
     "output_type": "stream",
     "text": [
      "10.92%\n"
     ]
    }
   ],
   "source": [
    "print(str(precent_online)+\"%\")"
   ]
  },
  {
   "cell_type": "code",
   "execution_count": 35,
   "metadata": {},
   "outputs": [],
   "source": [
    "fares_Per_Day = 200\n",
    "tot_Weeks = 52\n",
    "off_Weeks = 3\n",
    "work_day_per_week = 6\n",
    "gas_Week = 200\n",
    "insur_Month = 400\n",
    "rent_Week = 500\n"
   ]
  },
  {
   "cell_type": "code",
   "execution_count": 4,
   "metadata": {},
   "outputs": [],
   "source": [
    "gas_Expense = 1.05\n",
    "insur_Expense = 0.80\n"
   ]
  },
  {
   "cell_type": "markdown",
   "metadata": {},
   "source": [
    "When not partnering with Uber\n"
   ]
  },
  {
   "cell_type": "code",
   "execution_count": 52,
   "metadata": {},
   "outputs": [
    {
     "name": "stdout",
     "output_type": "stream",
     "text": [
      "$39100\n"
     ]
    }
   ],
   "source": [
    "total_exp = (gas_Week + rent_Week) * (tot_Weeks - off_Weeks) + insur_Month * 12\n",
    "print('$' + str(total_exp))"
   ]
  },
  {
   "cell_type": "code",
   "execution_count": 53,
   "metadata": {},
   "outputs": [
    {
     "name": "stdout",
     "output_type": "stream",
     "text": [
      "$58800\n"
     ]
    }
   ],
   "source": [
    "total_revenue = (tot_Weeks - off_Weeks) * work_day_per_week * fares_Per_Day\n",
    "print('$' + str(total_revenue))"
   ]
  },
  {
   "cell_type": "code",
   "execution_count": 70,
   "metadata": {},
   "outputs": [
    {
     "name": "stdout",
     "output_type": "stream",
     "text": [
      "33.5%\n"
     ]
    }
   ],
   "source": [
    "profit_margin = ((total_revenue - total_exp) / total_revenue )\n",
    "print(str(round((profit_margin*100),2)) + '%') "
   ]
  },
  {
   "cell_type": "markdown",
   "metadata": {},
   "source": [
    "When Partnering with Uber\n"
   ]
  },
  {
   "cell_type": "code",
   "execution_count": 71,
   "metadata": {},
   "outputs": [],
   "source": [
    "gas_per_week = gas_Week * 1.05\n",
    "insurance_per_month = insur_Month * 0.80\n",
    "new_car = 40000"
   ]
  },
  {
   "cell_type": "code",
   "execution_count": 72,
   "metadata": {},
   "outputs": [
    {
     "name": "stdout",
     "output_type": "stream",
     "text": [
      "$54130.0\n"
     ]
    }
   ],
   "source": [
    "new_tot_expense = new_car + (gas_per_week * (tot_Weeks - off_Weeks)) + insurance_per_month * 12\n",
    "print('$'+str(new_tot_expense))"
   ]
  },
  {
   "cell_type": "code",
   "execution_count": 73,
   "metadata": {},
   "outputs": [
    {
     "name": "stdout",
     "output_type": "stream",
     "text": [
      "7.94%\n"
     ]
    }
   ],
   "source": [
    "new_profit_margin = (total_revenue - new_tot_expense) / (total_revenue)\n",
    "print(str(round(new_profit_margin*100 ,2)) + '%')      "
   ]
  },
  {
   "cell_type": "code",
   "execution_count": 74,
   "metadata": {},
   "outputs": [],
   "source": [
    "fare_increase = total_revenue * ((profit_margin - new_profit_margin) / (tot_Weeks - off_Weeks))"
   ]
  },
  {
   "cell_type": "code",
   "execution_count": 76,
   "metadata": {},
   "outputs": [
    {
     "name": "stdout",
     "output_type": "stream",
     "text": [
      "$306.73\n"
     ]
    }
   ],
   "source": [
    "print('$' + str(round(fare_increase,2)))"
   ]
  },
  {
   "cell_type": "code",
   "execution_count": null,
   "metadata": {},
   "outputs": [],
   "source": []
  }
 ],
 "metadata": {
  "kernelspec": {
   "display_name": "base",
   "language": "python",
   "name": "python3"
  },
  "language_info": {
   "codemirror_mode": {
    "name": "ipython",
    "version": 3
   },
   "file_extension": ".py",
   "mimetype": "text/x-python",
   "name": "python",
   "nbconvert_exporter": "python",
   "pygments_lexer": "ipython3",
   "version": "3.9.7"
  },
  "orig_nbformat": 4
 },
 "nbformat": 4,
 "nbformat_minor": 2
}
